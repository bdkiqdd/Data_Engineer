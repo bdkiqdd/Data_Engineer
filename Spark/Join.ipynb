{
 "cells": [
  {
   "cell_type": "code",
   "execution_count": 1,
   "id": "6de95cfc-5cb8-4149-80d7-ab4f2aa2b13c",
   "metadata": {},
   "outputs": [],
   "source": [
    "from pyspark import SparkContext\n",
    "from pyspark.sql import SparkSession"
   ]
  },
  {
   "cell_type": "code",
   "execution_count": 2,
   "id": "c8dba023-1b7f-4c2e-bb6c-d459d6d272e6",
   "metadata": {},
   "outputs": [
    {
     "name": "stderr",
     "output_type": "stream",
     "text": [
      "22/06/10 08:14:46 WARN Utils: Your hostname, base resolves to a loopback address: 127.0.1.1; using 192.168.0.8 instead (on interface wlo1)\n",
      "22/06/10 08:14:46 WARN Utils: Set SPARK_LOCAL_IP if you need to bind to another address\n",
      "WARNING: An illegal reflective access operation has occurred\n",
      "WARNING: Illegal reflective access by org.apache.spark.unsafe.Platform (file:/home/kiq/.local/lib/python3.10/site-packages/pyspark/jars/spark-unsafe_2.12-3.2.1.jar) to constructor java.nio.DirectByteBuffer(long,int)\n",
      "WARNING: Please consider reporting this to the maintainers of org.apache.spark.unsafe.Platform\n",
      "WARNING: Use --illegal-access=warn to enable warnings of further illegal reflective access operations\n",
      "WARNING: All illegal access operations will be denied in a future release\n",
      "Using Spark's default log4j profile: org/apache/spark/log4j-defaults.properties\n",
      "Setting default log level to \"WARN\".\n",
      "To adjust logging level use sc.setLogLevel(newLevel). For SparkR, use setLogLevel(newLevel).\n",
      "22/06/10 08:14:47 WARN NativeCodeLoader: Unable to load native-hadoop library for your platform... using builtin-java classes where applicable\n",
      "22/06/10 08:14:48 WARN Utils: Service 'SparkUI' could not bind on port 4040. Attempting port 4041.\n"
     ]
    }
   ],
   "source": [
    "sc = SparkContext(appName=\"Join\")\n",
    "spark = SparkSession.builder\\\n",
    "        .master(\"local\")\\\n",
    "        .appName('Join')\\\n",
    "        .getOrCreate()"
   ]
  },
  {
   "cell_type": "code",
   "execution_count": 8,
   "id": "079dc4bb-3bc9-461f-ba28-a16abc80b363",
   "metadata": {},
   "outputs": [
    {
     "name": "stdout",
     "output_type": "stream",
     "text": [
      "+-----+----------+------+\n",
      "|idrec|   datarec|iddesp|\n",
      "+-----+----------+------+\n",
      "|    1|2020-09-12|     2|\n",
      "|    2|2020-09-11|     2|\n",
      "|    3|2020-10-05|     4|\n",
      "|    4|2020-10-02|     5|\n",
      "|    5|2020-12-06|     5|\n",
      "|    6|2020-01-09|     5|\n",
      "|    7|2020-01-05|     9|\n",
      "+-----+----------+------+\n",
      "\n"
     ]
    }
   ],
   "source": [
    "recschema = \"idrec INT, datarec STRING, iddesp INT\"\n",
    "reclamacoes = spark.read.format(\"csv\").load(\"/home/kiq/Stud/Spark/data/reclamacoes.csv\",header=False,schema=recschema)\n",
    "reclamacoes.show()"
   ]
  },
  {
   "cell_type": "code",
   "execution_count": 15,
   "id": "5830265f-b3b4-4323-9a62-90bd05aa97f8",
   "metadata": {},
   "outputs": [
    {
     "name": "stdout",
     "output_type": "stream",
     "text": [
      "+---+-------------------+------+-------------+------+----------+\n",
      "| id|               nome|status|       cidade|vendas|      data|\n",
      "+---+-------------------+------+-------------+------+----------+\n",
      "|  1|   Carminda Pestana| Ativo|  Santa Maria|    23|2020-08-11|\n",
      "|  2|    Deolinda Vilela| Ativo|Novo Hamburgo|    34|2020-03-05|\n",
      "|  3|   Emídio Dornelles| Ativo| Porto Alegre|    34|2020-02-05|\n",
      "|  4|Felisbela Dornelles| Ativo| Porto Alegre|    36|2020-02-05|\n",
      "|  5|     Graça Ornellas| Ativo| Porto Alegre|    12|2020-02-05|\n",
      "|  6|   Matilde Rebouças| Ativo| Porto Alegre|    22|2019-01-05|\n",
      "|  7|    Noêmia   Orriça| Ativo|  Santa Maria|    45|2019-10-05|\n",
      "|  8|      Roque Vásquez| Ativo| Porto Alegre|    65|2020-03-05|\n",
      "|  9|      Uriel Queiroz| Ativo| Porto Alegre|    54|2018-05-05|\n",
      "| 10|   Viviana Sequeira| Ativo| Porto Alegre|     0|2020-09-05|\n",
      "+---+-------------------+------+-------------+------+----------+\n",
      "\n"
     ]
    }
   ],
   "source": [
    "despachantes = spark.read.format('parquet').load('/home/kiq/Stud/Spark/data/SparkOut/despparquet/part-00000-f5a5a5fd-6773-4d99-b5e1-4ad2ca065c37-c000.snappy.parquet')\n",
    "despachantes.show()"
   ]
  },
  {
   "cell_type": "code",
   "execution_count": 10,
   "id": "ecf20ef7-8b0f-4c95-8fef-a539c67378c8",
   "metadata": {},
   "outputs": [
    {
     "name": "stdout",
     "output_type": "stream",
     "text": [
      "+---------+\n",
      "|namespace|\n",
      "+---------+\n",
      "|  default|\n",
      "+---------+\n",
      "\n"
     ]
    }
   ],
   "source": [
    "spark.sql('show databases').show()"
   ]
  },
  {
   "cell_type": "code",
   "execution_count": 11,
   "id": "de7d2cbc-d784-4c0b-81d4-72e64c3cf78b",
   "metadata": {},
   "outputs": [
    {
     "name": "stdout",
     "output_type": "stream",
     "text": [
      "++\n",
      "||\n",
      "++\n",
      "++\n",
      "\n"
     ]
    }
   ],
   "source": [
    "spark.sql('create database vendas')\n",
    "spark.sql('use vendas').show()"
   ]
  },
  {
   "cell_type": "code",
   "execution_count": 13,
   "id": "fd4e44a4-ce58-4762-bb23-e06f43c56a52",
   "metadata": {},
   "outputs": [],
   "source": [
    "reclamacoes.write.saveAsTable('reclamacoes')"
   ]
  },
  {
   "cell_type": "code",
   "execution_count": 16,
   "id": "86f0dad6-7852-4977-805f-c24ec33edd82",
   "metadata": {},
   "outputs": [],
   "source": [
    "despachantes.write.saveAsTable('despachantes')"
   ]
  },
  {
   "cell_type": "code",
   "execution_count": 17,
   "id": "306ca28d-a85d-45c4-9c55-5cd778b5a9d9",
   "metadata": {},
   "outputs": [
    {
     "name": "stdout",
     "output_type": "stream",
     "text": [
      "+---------+------------+-----------+\n",
      "|namespace|   tableName|isTemporary|\n",
      "+---------+------------+-----------+\n",
      "|   vendas|despachantes|      false|\n",
      "|   vendas| reclamacoes|      false|\n",
      "+---------+------------+-----------+\n",
      "\n"
     ]
    }
   ],
   "source": [
    "spark.sql('show tables').show()"
   ]
  },
  {
   "cell_type": "code",
   "execution_count": 21,
   "id": "3619ecd7-086e-4d23-9b91-2ccb9e5f17a0",
   "metadata": {},
   "outputs": [
    {
     "name": "stdout",
     "output_type": "stream",
     "text": [
      "+-----+----------+------+-------------------+\n",
      "|idrec|   datarec|iddesp|               nome|\n",
      "+-----+----------+------+-------------------+\n",
      "|    1|2020-09-12|     2|    Deolinda Vilela|\n",
      "|    2|2020-09-11|     2|    Deolinda Vilela|\n",
      "|    3|2020-10-05|     4|Felisbela Dornelles|\n",
      "|    4|2020-10-02|     5|     Graça Ornellas|\n",
      "|    5|2020-12-06|     5|     Graça Ornellas|\n",
      "|    6|2020-01-09|     5|     Graça Ornellas|\n",
      "|    7|2020-01-05|     9|      Uriel Queiroz|\n",
      "+-----+----------+------+-------------------+\n",
      "\n"
     ]
    }
   ],
   "source": [
    "spark.sql(\"select reclamacoes.*, despachantes.nome from despachantes \\\n",
    "            join reclamacoes on (despachantes.id == reclamacoes.iddesp)\").show()"
   ]
  },
  {
   "cell_type": "code",
   "execution_count": 23,
   "id": "ef7e3820-0bd7-474e-8e21-1022d4c7ba8f",
   "metadata": {},
   "outputs": [
    {
     "name": "stdout",
     "output_type": "stream",
     "text": [
      "+-----+----------+------+-------------------+\n",
      "|idrec|   datarec|iddesp|               nome|\n",
      "+-----+----------+------+-------------------+\n",
      "| null|      null|  null|   Carminda Pestana|\n",
      "|    2|2020-09-11|     2|    Deolinda Vilela|\n",
      "|    1|2020-09-12|     2|    Deolinda Vilela|\n",
      "| null|      null|  null|   Emídio Dornelles|\n",
      "|    3|2020-10-05|     4|Felisbela Dornelles|\n",
      "|    6|2020-01-09|     5|     Graça Ornellas|\n",
      "|    5|2020-12-06|     5|     Graça Ornellas|\n",
      "|    4|2020-10-02|     5|     Graça Ornellas|\n",
      "| null|      null|  null|   Matilde Rebouças|\n",
      "| null|      null|  null|    Noêmia   Orriça|\n",
      "| null|      null|  null|      Roque Vásquez|\n",
      "|    7|2020-01-05|     9|      Uriel Queiroz|\n",
      "| null|      null|  null|   Viviana Sequeira|\n",
      "+-----+----------+------+-------------------+\n",
      "\n"
     ]
    }
   ],
   "source": [
    "spark.sql(\"select reclamacoes.*, despachantes.nome from despachantes \\\n",
    "            left join reclamacoes on (despachantes.id == reclamacoes.iddesp)\").show()"
   ]
  },
  {
   "cell_type": "code",
   "execution_count": 25,
   "id": "c06c7952-4e1c-4798-ae59-b29aa4b36da8",
   "metadata": {},
   "outputs": [
    {
     "name": "stdout",
     "output_type": "stream",
     "text": [
      "+-----+----------+------+-------------------+\n",
      "|idrec|   datarec|iddesp|               nome|\n",
      "+-----+----------+------+-------------------+\n",
      "|    2|2020-09-11|     2|    Deolinda Vilela|\n",
      "|    1|2020-09-12|     2|    Deolinda Vilela|\n",
      "|    3|2020-10-05|     4|Felisbela Dornelles|\n",
      "|    6|2020-01-09|     5|     Graça Ornellas|\n",
      "|    5|2020-12-06|     5|     Graça Ornellas|\n",
      "|    4|2020-10-02|     5|     Graça Ornellas|\n",
      "|    7|2020-01-05|     9|      Uriel Queiroz|\n",
      "+-----+----------+------+-------------------+\n",
      "\n"
     ]
    }
   ],
   "source": [
    "despachantes.join(reclamacoes,on=despachantes.id == reclamacoes.iddesp, how='inner').select('idrec','datarec','iddesp','nome').show()"
   ]
  }
 ],
 "metadata": {
  "kernelspec": {
   "display_name": "Python 3 (ipykernel)",
   "language": "python",
   "name": "python3"
  },
  "language_info": {
   "codemirror_mode": {
    "name": "ipython",
    "version": 3
   },
   "file_extension": ".py",
   "mimetype": "text/x-python",
   "name": "python",
   "nbconvert_exporter": "python",
   "pygments_lexer": "ipython3",
   "version": "3.10.4"
  }
 },
 "nbformat": 4,
 "nbformat_minor": 5
}

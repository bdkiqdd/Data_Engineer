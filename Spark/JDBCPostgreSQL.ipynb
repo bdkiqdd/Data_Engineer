{
 "cells": [
  {
   "cell_type": "code",
   "execution_count": 1,
   "id": "f7fcb3d0-c26c-4296-861c-15340df09378",
   "metadata": {},
   "outputs": [],
   "source": [
    "import os\n",
    "os.environ['PYSPARK_SUBMIT_ARGS'] = '--jars file:///home/kiq/Downloads/postgresql-42.4.0.jar pyspark-shell'"
   ]
  },
  {
   "cell_type": "code",
   "execution_count": 22,
   "id": "56bf9360-3edf-4064-83a0-1f56345a86e3",
   "metadata": {},
   "outputs": [],
   "source": [
    "from pyspark.sql import SparkSession\n",
    "from pyspark import SparkContext\n",
    "from pyspark.sql import functions as Func"
   ]
  },
  {
   "cell_type": "code",
   "execution_count": 5,
   "id": "5b88b29d-6e33-4cce-becf-2477c7c781cf",
   "metadata": {},
   "outputs": [
    {
     "name": "stderr",
     "output_type": "stream",
     "text": [
      "22/06/15 23:03:00 WARN Utils: Your hostname, base resolves to a loopback address: 127.0.1.1; using 192.168.0.8 instead (on interface wlo1)\n",
      "22/06/15 23:03:00 WARN Utils: Set SPARK_LOCAL_IP if you need to bind to another address\n",
      "WARNING: An illegal reflective access operation has occurred\n",
      "WARNING: Illegal reflective access by org.apache.spark.unsafe.Platform (file:/home/kiq/.local/lib/python3.10/site-packages/pyspark/jars/spark-unsafe_2.12-3.2.1.jar) to constructor java.nio.DirectByteBuffer(long,int)\n",
      "WARNING: Please consider reporting this to the maintainers of org.apache.spark.unsafe.Platform\n",
      "WARNING: Use --illegal-access=warn to enable warnings of further illegal reflective access operations\n",
      "WARNING: All illegal access operations will be denied in a future release\n",
      "22/06/15 23:03:01 WARN NativeCodeLoader: Unable to load native-hadoop library for your platform... using builtin-java classes where applicable\n",
      "Using Spark's default log4j profile: org/apache/spark/log4j-defaults.properties\n",
      "Setting default log level to \"WARN\".\n",
      "To adjust logging level use sc.setLogLevel(newLevel). For SparkR, use setLogLevel(newLevel).\n"
     ]
    }
   ],
   "source": [
    "sc = SparkContext(appName=\"Postgres\")\n",
    "spark = SparkSession.builder\\\n",
    "        .master('local')\\\n",
    "        .appName(\"Postgres\")\\\n",
    "        .getOrCreate()"
   ]
  },
  {
   "cell_type": "code",
   "execution_count": 11,
   "id": "6fb842fa-0b79-4de0-b700-67f81a81a021",
   "metadata": {},
   "outputs": [],
   "source": [
    "df_vendas = spark.read.format('jdbc')\\\n",
    "    .option(\"url\",\"jdbc:postgresql://localhost:5432/vendas\")\\\n",
    "    .option('dbtable','vendas')\\\n",
    "    .option('user','postgres')\\\n",
    "    .option('password','kaka2014')\\\n",
    "    .option('driver','org.postgresql.Driver')\\\n",
    "    .load()"
   ]
  },
  {
   "cell_type": "code",
   "execution_count": 12,
   "id": "7f845414-b194-4480-b0d6-65ec464516a6",
   "metadata": {},
   "outputs": [
    {
     "name": "stdout",
     "output_type": "stream",
     "text": [
      "+-------+----------+---------+----------+--------+\n",
      "|idvenda|idvendedor|idcliente|      data|   total|\n",
      "+-------+----------+---------+----------+--------+\n",
      "|      1|         1|        1|2016-01-01| 8053.60|\n",
      "|      2|         6|      185|2016-01-01|  150.40|\n",
      "|      3|         7|       31|2016-01-02| 6087.00|\n",
      "|      4|         5|        1|2016-01-02|13828.60|\n",
      "|      5|         8|      120|2016-01-03|26096.66|\n",
      "|      6|         9|       74|2016-01-04|18402.00|\n",
      "|      7|         9|      191|2016-01-06| 7524.20|\n",
      "|      8|         6|        2|2016-01-06|12036.60|\n",
      "|      9|         7|       91|2016-01-06| 2804.75|\n",
      "|     10|         2|      202|2016-01-06| 8852.00|\n",
      "|     11|         1|        3|2016-01-08|16545.25|\n",
      "|     12|         7|       32|2016-01-09|11411.88|\n",
      "|     13|         4|      136|2016-01-10|15829.70|\n",
      "|     14|         3|      249|2016-01-12| 6154.36|\n",
      "|     15|         4|        5|2016-01-12| 3255.08|\n",
      "|     16|         7|      192|2016-01-13| 2901.25|\n",
      "|     17|         2|       79|2016-01-13|15829.70|\n",
      "|     18|        10|      136|2016-01-14|16996.36|\n",
      "|     19|        10|      191|2016-01-14|  155.00|\n",
      "|     20|         9|      218|2016-01-15|  131.75|\n",
      "+-------+----------+---------+----------+--------+\n",
      "only showing top 20 rows\n",
      "\n"
     ]
    }
   ],
   "source": [
    "df_vendas.show()"
   ]
  },
  {
   "cell_type": "code",
   "execution_count": 8,
   "id": "a28a2d3d-53c0-4eac-b094-d143c3f041ea",
   "metadata": {},
   "outputs": [],
   "source": [
    "df_clientes = spark.read.format('jdbc')\\\n",
    "    .option(\"url\",\"jdbc:postgresql://localhost:5432/vendas\")\\\n",
    "    .option('dbtable','clientes')\\\n",
    "    .option('user','postgres')\\\n",
    "    .option('password','kaka2014')\\\n",
    "    .option('driver','org.postgresql.Driver')\\\n",
    "    .load()"
   ]
  },
  {
   "cell_type": "code",
   "execution_count": 9,
   "id": "41710b8c-435e-46e3-93cb-0783df0b713c",
   "metadata": {},
   "outputs": [
    {
     "name": "stdout",
     "output_type": "stream",
     "text": [
      "+---------+--------------------+------+----+--------+\n",
      "|idcliente|             cliente|estado|sexo|  status|\n",
      "+---------+--------------------+------+----+--------+\n",
      "|        1|Adelina Buenaventura|    RJ|   M|  Silver|\n",
      "|        2|        Adelino Gago|    RJ|   M|  Silver|\n",
      "|        3|       Adélio Lisboa|    SE|   M|  Silver|\n",
      "|        4|       Adérito Bahía|    MA|   M|  Silver|\n",
      "|        5|     Adolfo Patrício|    PE|   M|  Silver|\n",
      "|        6|    Adriana Guedelha|    RO|   F|Platinum|\n",
      "|        7|       Aida Dorneles|    RN|   F|  Silver|\n",
      "|        8|   Alarico Quinterno|    AC|   M|  Silver|\n",
      "|        9|    Alberto Cezimbra|    AM|   M|  Silver|\n",
      "|       10|    Alberto Monsanto|    RN|   M|    Gold|\n",
      "|       11|       Albino Canela|    AC|   M|  Silver|\n",
      "|       12|     Alceste Varanda|    RR|   F|  Silver|\n",
      "|       13|  Alcides Carvalhais|    RO|   M|  Silver|\n",
      "|       14|        Aldo Martins|    GO|   M|  Silver|\n",
      "|       15|   Alexandra Tabares|    MG|   F|  Silver|\n",
      "|       16|      Alfredo Cotrim|    SC|   M|  Silver|\n",
      "|       17|     Almeno Figueira|    SC|   M|  Silver|\n",
      "|       18|      Alvito Peralta|    AM|   M|  Silver|\n",
      "|       19|     Amadeu Martinho|    RN|   M|  Silver|\n",
      "|       20|      Amélia Estévez|    PE|   F|  Silver|\n",
      "+---------+--------------------+------+----+--------+\n",
      "only showing top 20 rows\n",
      "\n"
     ]
    }
   ],
   "source": [
    "df_clientes.show()"
   ]
  },
  {
   "cell_type": "code",
   "execution_count": 24,
   "id": "56daca1e-618f-4297-9ccf-3f9ccb1547fb",
   "metadata": {},
   "outputs": [
    {
     "data": {
      "text/plain": [
       "StructType(List(StructField(idvenda,IntegerType,true),StructField(idvendedor,IntegerType,true),StructField(idcliente,IntegerType,true),StructField(data,DateType,true),StructField(total,DecimalType(10,2),true)))"
      ]
     },
     "execution_count": 24,
     "metadata": {},
     "output_type": "execute_result"
    }
   ],
   "source": [
    "df_vendas.schema"
   ]
  },
  {
   "cell_type": "code",
   "execution_count": 42,
   "id": "caa0d2ec-523a-42b5-827b-f760f99672d3",
   "metadata": {},
   "outputs": [
    {
     "name": "stdout",
     "output_type": "stream",
     "text": [
      "+----------+--------+\n",
      "|      data|   total|\n",
      "+----------+--------+\n",
      "|2016-04-25|16184.67|\n",
      "|2016-05-03| 8514.01|\n",
      "|2016-08-15|22880.88|\n",
      "|2016-08-31|15346.92|\n",
      "|2016-07-17| 3893.25|\n",
      "|2016-12-19|13439.78|\n",
      "|2016-07-03| 9446.44|\n",
      "|2016-08-23|19438.51|\n",
      "|2016-05-26| 9122.82|\n",
      "|2016-06-02|28660.30|\n",
      "|2016-01-13|18730.95|\n",
      "|2016-01-01| 8204.00|\n",
      "|2016-04-22| 5180.60|\n",
      "|2016-06-16| 6737.03|\n",
      "|2016-01-19|11290.19|\n",
      "|2016-05-09| 7652.35|\n",
      "|2016-07-19|14416.40|\n",
      "|2016-09-15| 5932.00|\n",
      "|2016-02-08| 5865.00|\n",
      "|2016-10-07| 3131.90|\n",
      "+----------+--------+\n",
      "only showing top 20 rows\n",
      "\n"
     ]
    }
   ],
   "source": [
    "df_datavenda = df_vendas.groupBy('data').agg(Func.sum(\"total\").alias(\"total\"))\n",
    "df_datavenda.show()"
   ]
  },
  {
   "cell_type": "code",
   "execution_count": 44,
   "id": "4180914b-01df-4fc5-b9c7-c61eb26794e7",
   "metadata": {},
   "outputs": [],
   "source": [
    "df_datavenda.write.format('jdbc')\\\n",
    "    .option(\"url\",\"jdbc:postgresql://localhost:5432/vendas\")\\\n",
    "    .option('dbtable','datavenda')\\\n",
    "    .option('user','postgres')\\\n",
    "    .option('password','kaka2014')\\\n",
    "    .option('driver','org.postgresql.Driver')\\\n",
    "    .save()"
   ]
  }
 ],
 "metadata": {
  "kernelspec": {
   "display_name": "Python 3 (ipykernel)",
   "language": "python",
   "name": "python3"
  },
  "language_info": {
   "codemirror_mode": {
    "name": "ipython",
    "version": 3
   },
   "file_extension": ".py",
   "mimetype": "text/x-python",
   "name": "python",
   "nbconvert_exporter": "python",
   "pygments_lexer": "ipython3",
   "version": "3.10.4"
  }
 },
 "nbformat": 4,
 "nbformat_minor": 5
}
